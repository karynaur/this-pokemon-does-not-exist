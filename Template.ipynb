{
 "cells": [
  {
   "cell_type": "code",
   "execution_count": 13,
   "metadata": {},
   "outputs": [
    {
     "data": {
      "text/plain": [
       "(200, '1.jpg')"
      ]
     },
     "execution_count": 13,
     "metadata": {},
     "output_type": "execute_result"
    }
   ],
   "source": [
    "from PIL import Image\n",
    "from glob import glob\n",
    "\n",
    "images=glob('results/run2-generated-25/*')\n",
    "len(images),images[0][26:]"
   ]
  },
  {
   "cell_type": "code",
   "execution_count": 16,
   "metadata": {},
   "outputs": [],
   "source": [
    "layout=Image.open('card_final.png')\n",
    "copy=layout.copy()\n",
    "count=0\n",
    "for i in images:\n",
    "    poke = Image.open(i)\n",
    "    copy.paste(poke,(82,70))\n",
    "    copy.save('cards/'+str(count)+'.png')\n",
    "    count+=1\n",
    "    \n",
    "    \n",
    "    "
   ]
  },
  {
   "cell_type": "code",
   "execution_count": 74,
   "metadata": {},
   "outputs": [],
   "source": [
    "with open('results/namelist/pokemon.txt') as f:\n",
    "    names=[i[:-1] for i in f.readlines() if len(i)<=9 and len(i)>2]\n",
    "    "
   ]
  },
  {
   "cell_type": "code",
   "execution_count": 77,
   "metadata": {},
   "outputs": [
    {
     "data": {
      "text/plain": [
       "313"
      ]
     },
     "execution_count": 77,
     "metadata": {},
     "output_type": "execute_result"
    }
   ],
   "source": [
    "len(names)"
   ]
  },
  {
   "cell_type": "code",
   "execution_count": 44,
   "metadata": {},
   "outputs": [
    {
     "data": {
      "text/plain": [
       "(200, 'cards/0.png')"
      ]
     },
     "execution_count": 44,
     "metadata": {},
     "output_type": "execute_result"
    }
   ],
   "source": [
    "from PIL import ImageDraw,ImageFont\n",
    "\n",
    "bg=glob('cards/*')\n",
    "len(bg),bg[0]"
   ]
  },
  {
   "cell_type": "code",
   "execution_count": 49,
   "metadata": {},
   "outputs": [
    {
     "data": {
      "text/plain": [
       "277"
      ]
     },
     "execution_count": 49,
     "metadata": {},
     "output_type": "execute_result"
    }
   ],
   "source": [
    "import random\n",
    "random.randint(0,len(names))"
   ]
  },
  {
   "cell_type": "code",
   "execution_count": 107,
   "metadata": {},
   "outputs": [],
   "source": [
    "count=0\n",
    "for i in bg:\n",
    "    counter=random.randint(0,len(names)-1)\n",
    "    img = Image.open(i)\n",
    "    d1 = ImageDraw.Draw(img)\n",
    "    text=names[counter].capitalize()\n",
    "    d1.text((115, 15),text,font=ImageFont.truetype('Dela.ttf',25), fill=(0,0,0))\n",
    "    r1,r2,r3,r4=random.randint(0,100),random.randint(0,100),random.randint(0,100),random.randint(11,99)\n",
    "    d1.text((315, 16),str(r4),font=ImageFont.truetype('Dela.ttf',25), fill=(255,255,0))\n",
    "    d1.text((82, 500),str(r1),font=ImageFont.truetype('Dela.ttf',10), fill=(255,255,0))\n",
    "    d1.text((160, 500),str(r2),font=ImageFont.truetype('Dela.ttf',10), fill=(255,255,0))\n",
    "    d1.text((73, 541),str(r3),font=ImageFont.truetype('Dela.ttf',10), fill=(255,255,0))\n",
    "\n",
    "    img.save('Card/'+str(count)+'.png')\n",
    "    count+=1"
   ]
  },
  {
   "cell_type": "code",
   "execution_count": null,
   "metadata": {},
   "outputs": [],
   "source": []
  }
 ],
 "metadata": {
  "kernelspec": {
   "display_name": "Python 3",
   "language": "python",
   "name": "python3"
  },
  "language_info": {
   "codemirror_mode": {
    "name": "ipython",
    "version": 3
   },
   "file_extension": ".py",
   "mimetype": "text/x-python",
   "name": "python",
   "nbconvert_exporter": "python",
   "pygments_lexer": "ipython3",
   "version": "3.8.5"
  }
 },
 "nbformat": 4,
 "nbformat_minor": 4
}
